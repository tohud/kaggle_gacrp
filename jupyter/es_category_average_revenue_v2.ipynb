{
 "cells": [
  {
   "cell_type": "code",
   "execution_count": 7,
   "metadata": {},
   "outputs": [],
   "source": [
    "from matplotlib import pyplot\n",
    "import numpy as np\n",
    "import os\n",
    "\n",
    "import elasticsearch as es\n",
    "ES_HOST = \"localhost\"\n",
    "escon = es.Elasticsearch(ES_HOST, port=9200)\n",
    "GACRP_HOME=os.environ['GACRP_HOME']"
   ]
  },
  {
   "cell_type": "code",
   "execution_count": 8,
   "metadata": {},
   "outputs": [
    {
     "name": "stdout",
     "output_type": "stream",
     "text": [
      "903653\n",
      "Organic Search\n"
     ]
    }
   ],
   "source": [
    "# elasticsearch 接続確認\n",
    "body = {\n",
    "            \"size\":10,\n",
    "            \"query\":{\n",
    "                \"match_all\":{}\n",
    "            }\n",
    "        }\n",
    "res=escon.search(index='gacrp_index',body=body)\n",
    "print(res['hits']['total'])\n",
    "print(res['hits']['hits'][0]['_source']['channelGrouping'])"
   ]
  },
  {
   "cell_type": "code",
   "execution_count": 9,
   "metadata": {},
   "outputs": [
    {
     "name": "stdout",
     "output_type": "stream",
     "text": [
      "(u'Organic Search', 381561, 855382.258668994)\n",
      "(u'Social', 226117, 21743.345259312657)\n",
      "(u'Direct', 143026, 3040290.226951743)\n",
      "(u'Referral', 104838, 6213681.203380453)\n",
      "(u'Paid Search', 25326, 1719928.1370923163)\n",
      "(u'Affiliates', 16403, 36418.94775345973)\n",
      "(u'Display', 6262, 12509974.449057808)\n",
      "(u'(Other)', 120, 83250.0)\n"
     ]
    }
   ],
   "source": [
    "# esからデータ取得\n",
    "body = {\n",
    "    \"size\":0,\n",
    "    \"aggs\":{\n",
    "        \"aggs_channelGrouping\":{\n",
    "            \"terms\":{\n",
    "                \"field\":\"channelGrouping.keyword\",\n",
    "                \"order\":{\"_count\":\"desc\"}\n",
    "            },\n",
    "            \"aggs\":{\n",
    "                \"aggs_avg_revenue\":{\n",
    "                    \"avg\":{\"field\":\"transactionRevenue\"}\n",
    "                }\n",
    "            }\n",
    "        }\n",
    "    }\n",
    "}\n",
    "res=escon.search(index='gacrp_index',body=body)\n",
    "#print(res['aggregations']['aggs_channelGrouping']['buckets'])\n",
    "restmp=res['aggregations']['aggs_channelGrouping']['buckets']\n",
    "for i in range(len(restmp)):\n",
    "    print(restmp[i]['key'],restmp[i]['doc_count'],restmp[i]['aggs_avg_revenue']['value'])\n",
    "          "
   ]
  },
  {
   "cell_type": "code",
   "execution_count": 10,
   "metadata": {},
   "outputs": [
    {
     "data": {
      "image/png": "[encoded data removed]",
      "text/plain": [
       "<Figure size 432x288 with 1 Axes>"
      ]
     },
     "metadata": {
      "needs_background": "light"
     },
     "output_type": "display_data"
    }
   ],
   "source": [
    "# グラフ化\n",
    "x=[]\n",
    "y=[]\n",
    "ylabel=[]\n",
    "\n",
    "for i in range(len(restmp)):\n",
    "    x.append(len(restmp)-i)\n",
    "    y.append(restmp[i]['aggs_avg_revenue']['value'])\n",
    "    ylabel.append(restmp[i]['key'])\n",
    "    \n",
    "pyplot.barh(x,y,align=\"center\")\n",
    "pyplot.yticks(x,ylabel)\n",
    "pyplot.show()    \n",
    "\n",
    "\n"
   ]
  },
  {
   "cell_type": "code",
   "execution_count": 11,
   "metadata": {},
   "outputs": [],
   "source": [
    "# 横棒グラフの部品化：データ件数/カテゴリごとのrevenue平均\n",
    "def showBarGraph(field):\n",
    "    body = {\n",
    "        \"size\":0,\n",
    "        \"aggs\":{\n",
    "            \"aggs_field\":{\n",
    "                \"terms\":{\n",
    "                    \"field\":field+\".keyword\",\n",
    "                    \"order\":{\"_count\":\"desc\"}\n",
    "                },\n",
    "                \"aggs\":{\n",
    "                    \"aggs_avg_revenue\":{\n",
    "                        \"avg\":{\"field\":\"transactionRevenue\"}\n",
    "                    }\n",
    "                }\n",
    "            }\n",
    "        }\n",
    "    }\n",
    "    \n",
    "    esRes=escon.search(index='gacrp_index',body=body)\n",
    "    data=esRes['aggregations']['aggs_field']['buckets']\n",
    "\n",
    "    # 2列のグラフを書く\n",
    "    fig,(axCnt,axAvg)=pyplot.subplots(ncols=2,figsize=(10,4))\n",
    "\n",
    "    graph_x=[]\n",
    "    graph_y=[]\n",
    "    graph_ylabel=[]\n",
    "\n",
    "    graph_avgx=[]\n",
    "    graph_avgy=[]\n",
    "    graph_avgylabel=[]\n",
    "\n",
    "    for i in range(len(data)):\n",
    "        graph_x.append(len(data)-i)\n",
    "        graph_y.append(data[i]['doc_count'])\n",
    "        graph_ylabel.append(data[i]['key'])\n",
    "    \n",
    "    axCnt.barh(graph_x,graph_y,align=\"center\")\n",
    "    axCnt.yticks(graph_x,graph_ylabel)\n",
    "    axCnt.title(field+\" count\")\n",
    "\n",
    "    for i in range(len(data)):\n",
    "        graph_avgx.append(len(data)-i)\n",
    "        graph_avgy.append(data[i]['aggs_avg_revenue']['value'])\n",
    "        graph_avgylabel.append(data[i]['key'])\n",
    "    \n",
    "    axAvg.barh(graph_avgx,graph_avgy,align=\"center\")\n",
    "    axAvg.yticks(graph_avgx,graph_avgylabel)\n",
    "    axAvg.title(field+\" average transactionevenue\")\n",
    "    \n",
    "    fig.show()\n",
    "\n",
    "    \n",
    "    return"
   ]
  },
  {
   "cell_type": "code",
   "execution_count": null,
   "metadata": {},
   "outputs": [],
   "source": []
  },
  {
   "cell_type": "code",
   "execution_count": 12,
   "metadata": {},
   "outputs": [
    {
     "ename": "AttributeError",
     "evalue": "'AxesSubplot' object has no attribute 'yticks'",
     "output_type": "error",
     "traceback": [
      "\u001b[0;31m\u001b[0m",
      "\u001b[0;31mAttributeError\u001b[0mTraceback (most recent call last)",
      "\u001b[0;32m<ipython-input-12-4d756cb21676>\u001b[0m in \u001b[0;36m<module>\u001b[0;34m()\u001b[0m\n\u001b[0;32m----> 1\u001b[0;31m \u001b[0mshowBarGraph\u001b[0m\u001b[0;34m(\u001b[0m\u001b[0;34m\"channelGrouping\"\u001b[0m\u001b[0;34m)\u001b[0m\u001b[0;34m\u001b[0m\u001b[0m\n\u001b[0m",
      "\u001b[0;32m<ipython-input-11-c3d1e3186099>\u001b[0m in \u001b[0;36mshowBarGraph\u001b[0;34m(field)\u001b[0m\n\u001b[1;32m     38\u001b[0m \u001b[0;34m\u001b[0m\u001b[0m\n\u001b[1;32m     39\u001b[0m     \u001b[0maxCnt\u001b[0m\u001b[0;34m.\u001b[0m\u001b[0mbarh\u001b[0m\u001b[0;34m(\u001b[0m\u001b[0mgraph_x\u001b[0m\u001b[0;34m,\u001b[0m\u001b[0mgraph_y\u001b[0m\u001b[0;34m,\u001b[0m\u001b[0malign\u001b[0m\u001b[0;34m=\u001b[0m\u001b[0;34m\"center\"\u001b[0m\u001b[0;34m)\u001b[0m\u001b[0;34m\u001b[0m\u001b[0m\n\u001b[0;32m---> 40\u001b[0;31m     \u001b[0maxCnt\u001b[0m\u001b[0;34m.\u001b[0m\u001b[0myticks\u001b[0m\u001b[0;34m(\u001b[0m\u001b[0mgraph_x\u001b[0m\u001b[0;34m,\u001b[0m\u001b[0mgraph_ylabel\u001b[0m\u001b[0;34m)\u001b[0m\u001b[0;34m\u001b[0m\u001b[0m\n\u001b[0m\u001b[1;32m     41\u001b[0m     \u001b[0maxCnt\u001b[0m\u001b[0;34m.\u001b[0m\u001b[0mtitle\u001b[0m\u001b[0;34m(\u001b[0m\u001b[0mfield\u001b[0m\u001b[0;34m+\u001b[0m\u001b[0;34m\" count\"\u001b[0m\u001b[0;34m)\u001b[0m\u001b[0;34m\u001b[0m\u001b[0m\n\u001b[1;32m     42\u001b[0m \u001b[0;34m\u001b[0m\u001b[0m\n",
      "\u001b[0;31mAttributeError\u001b[0m: 'AxesSubplot' object has no attribute 'yticks'"
     ]
    },
    {
     "data": {
      "image/png": "[encoded data removed]",
      "text/plain": [
       "<Figure size 720x288 with 2 Axes>"
      ]
     },
     "metadata": {
      "needs_background": "light"
     },
     "output_type": "display_data"
    }
   ],
   "source": [
    "showBarGraph(\"channelGrouping\")"
   ]
  },
  {
   "cell_type": "code",
   "execution_count": null,
   "metadata": {},
   "outputs": [],
   "source": [
    "showBarGraph(\"browser\")"
   ]
  },
  {
   "cell_type": "code",
   "execution_count": null,
   "metadata": {},
   "outputs": [],
   "source": [
    "showBarGraph(\"isMobile\")"
   ]
  },
  {
   "cell_type": "code",
   "execution_count": null,
   "metadata": {},
   "outputs": [],
   "source": [
    "showBarGraph(\"continent\")"
   ]
  },
  {
   "cell_type": "code",
   "execution_count": null,
   "metadata": {},
   "outputs": [],
   "source": [
    "showBarGraph(\"country\")"
   ]
  },
  {
   "cell_type": "code",
   "execution_count": null,
   "metadata": {},
   "outputs": [],
   "source": [
    "showBarGraph(\"keyword\")"
   ]
  },
  {
   "cell_type": "code",
   "execution_count": null,
   "metadata": {},
   "outputs": [],
   "source": [
    "showBarGraph(\"isTrueDirect\")"
   ]
  },
  {
   "cell_type": "code",
   "execution_count": null,
   "metadata": {},
   "outputs": [],
   "source": [
    "showBarGraph(\"networkDomain\")\n",
    "#  networkLocation is not available"
   ]
  },
  {
   "cell_type": "code",
   "execution_count": null,
   "metadata": {},
   "outputs": [],
   "source": [
    "fields=[\"channelGrouping\",\"visitNumber\",\"browser\",\"operatingSystem\",\"isMobile\",\"deviceCategory\",\"continent\",\"subContinent\",\"country\",\"region\",\"metro\",\"city\",\"networkDomain\",\"visits\",\"hits\",\"pageviews\",\"bounces\",\"newVisits\",\"transactionRevenue\",\"campaign\",\"source\",\"medium\",\"keyword\",\"isTrueDirect\",\"referralPath\",\"adContent\",\"campaignCode\",\"adwordsClickInfo.criteriaParameters\",\"adwordsClickInfo.page\",\"adwordsClickInfo.slot\",\"adwordsClickInfo.gclId\",\"adwordsClickInfo.adNetworkType\",\"adwordsClickInfo.isVideoAd\"]\n",
    "# socialEngagementType,browserVersion,browserSize,\"operatingSystemVersion\",\"mobileDeviceBranding\",,\"mobileDeviceModel\",\"mobileInputSelector\",\"mobileDeviceInfo\",\"mobileDeviceMarketingName\",\"flashVersion\",\"language\",\"screenColors\",\"screenResolution\",\"cityId\",\"latitude\",\"longitude\",\"networkLocation\"\n",
    "for field in fields:\n",
    "    showBarGraph(field)\n",
    "    "
   ]
  },
  {
   "cell_type": "code",
   "execution_count": null,
   "metadata": {},
   "outputs": [],
   "source": []
  },
  {
   "cell_type": "code",
   "execution_count": null,
   "metadata": {},
   "outputs": [],
   "source": []
  },
  {
   "cell_type": "code",
   "execution_count": null,
   "metadata": {},
   "outputs": [],
   "source": []
  }
 ],
 "metadata": {
  "kernelspec": {
   "display_name": "Python 3",
   "language": "python",
   "name": "python3"
  },
  "language_info": {
   "codemirror_mode": {
    "name": "ipython",
    "version": 2
   },
   "file_extension": ".py",
   "mimetype": "text/x-python",
   "name": "python",
   "nbconvert_exporter": "python",
   "pygments_lexer": "ipython2",
   "version": "2.7.5"
  }
 },
 "nbformat": 4,
 "nbformat_minor": 2
}
