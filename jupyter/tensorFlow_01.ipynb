{
 "cells": [
  {
   "cell_type": "code",
   "execution_count": 61,
   "metadata": {},
   "outputs": [],
   "source": [
    "import tensorflow as tf\n",
    "import numpy as np\n",
    "import elasticsearch as es\n",
    "ES_HOST = \"localhost\"\n",
    "escon = es.Elasticsearch(ES_HOST, port=9200)\n",
    "from matplotlib import pyplot\n",
    "import sys"
   ]
  },
  {
   "cell_type": "code",
   "execution_count": 62,
   "metadata": {},
   "outputs": [],
   "source": [
    "def getDataFromES(field1):\n",
    "    body = {\n",
    "        \"size\":0,\n",
    "        \"aggs\":{\n",
    "            \"by_fullVisitorId\":{\n",
    "                \"terms\":{\n",
    "                    \"field\":\"fullVisitorId.keyword\"\n",
    "                },\n",
    "                \"aggs\":{\n",
    "                    \"by_continent\":{\n",
    "                        \"terms\":{\n",
    "                            \"field\":\"continent.keyword\"\n",
    "                        },\n",
    "                        \"aggs\":{\n",
    "                            \"sum_transactionRevene\":{\n",
    "                                \"sum\":{\n",
    "                                    \"field\":\"transactionRevenue\"\n",
    "                                }\n",
    "                            }\n",
    "                        }\n",
    "                    }\n",
    "                }\n",
    "            }\n",
    "        }\n",
    "    }\n",
    "    \n",
    "    esRes=escon.search(index='gacrp_index',body=body)\n",
    "    data=esRes['aggregations']['by_fullVisitorId']['buckets']\n",
    "    print(data[0:10])\n",
    "    return data\n",
    "\n"
   ]
  },
  {
   "cell_type": "code",
   "execution_count": 63,
   "metadata": {},
   "outputs": [
    {
     "name": "stdout",
     "output_type": "stream",
     "text": [
      "[{u'by_continent': {u'buckets': [{u'sum_transactionRevene': {u'value': 77113430000.0}, u'key': u'Americas', u'doc_count': 278}], u'sum_other_doc_count': 0, u'doc_count_error_upper_bound': 0}, u'key': u'1957458976293878100', u'doc_count': 278}, {u'by_continent': {u'buckets': [{u'sum_transactionRevene': {u'value': 0.0}, u'key': u'Americas', u'doc_count': 255}], u'sum_other_doc_count': 0, u'doc_count_error_upper_bound': 0}, u'key': u'0824839726118485274', u'doc_count': 255}, {u'by_continent': {u'buckets': [{u'sum_transactionRevene': {u'value': 23480000.0}, u'key': u'Americas', u'doc_count': 201}], u'sum_other_doc_count': 0, u'doc_count_error_upper_bound': 0}, u'key': u'3608475193341679870', u'doc_count': 201}, {u'by_continent': {u'buckets': [{u'sum_transactionRevene': {u'value': 0.0}, u'key': u'Americas', u'doc_count': 199}], u'sum_other_doc_count': 0, u'doc_count_error_upper_bound': 0}, u'key': u'1856749147915772585', u'doc_count': 199}, {u'by_continent': {u'buckets': [{u'sum_transactionRevene': {u'value': 179900000.0}, u'key': u'Americas', u'doc_count': 155}], u'sum_other_doc_count': 0, u'doc_count_error_upper_bound': 0}, u'key': u'3269834865385146569', u'doc_count': 155}, {u'by_continent': {u'buckets': [{u'sum_transactionRevene': {u'value': 0.0}, u'key': u'Asia', u'doc_count': 153}], u'sum_other_doc_count': 0, u'doc_count_error_upper_bound': 0}, u'key': u'0720311197761340948', u'doc_count': 153}, {u'by_continent': {u'buckets': [{u'sum_transactionRevene': {u'value': 25000000.0}, u'key': u'Americas', u'doc_count': 148}], u'sum_other_doc_count': 0, u'doc_count_error_upper_bound': 0}, u'key': u'7634897085866546110', u'doc_count': 148}, {u'by_continent': {u'buckets': [{u'sum_transactionRevene': {u'value': 0.0}, u'key': u'Americas', u'doc_count': 138}], u'sum_other_doc_count': 0, u'doc_count_error_upper_bound': 0}, u'key': u'4038076683036146727', u'doc_count': 138}, {u'by_continent': {u'buckets': [{u'sum_transactionRevene': {u'value': 17980000.0}, u'key': u'Americas', u'doc_count': 135}], u'sum_other_doc_count': 0, u'doc_count_error_upper_bound': 0}, u'key': u'0232377434237234751', u'doc_count': 135}, {u'by_continent': {u'buckets': [{u'sum_transactionRevene': {u'value': 15190000.0}, u'key': u'Americas', u'doc_count': 128}, {u'sum_transactionRevene': {u'value': 0.0}, u'key': u'Europe', u'doc_count': 1}], u'sum_other_doc_count': 0, u'doc_count_error_upper_bound': 0}, u'key': u'3694234028523165868', u'doc_count': 129}]\n"
     ]
    },
    {
     "data": {
      "text/plain": [
       "[{u'by_continent': {u'buckets': [{u'doc_count': 278,\n",
       "     u'key': u'Americas',\n",
       "     u'sum_transactionRevene': {u'value': 77113430000.0}}],\n",
       "   u'doc_count_error_upper_bound': 0,\n",
       "   u'sum_other_doc_count': 0},\n",
       "  u'doc_count': 278,\n",
       "  u'key': u'1957458976293878100'},\n",
       " {u'by_continent': {u'buckets': [{u'doc_count': 255,\n",
       "     u'key': u'Americas',\n",
       "     u'sum_transactionRevene': {u'value': 0.0}}],\n",
       "   u'doc_count_error_upper_bound': 0,\n",
       "   u'sum_other_doc_count': 0},\n",
       "  u'doc_count': 255,\n",
       "  u'key': u'0824839726118485274'},\n",
       " {u'by_continent': {u'buckets': [{u'doc_count': 201,\n",
       "     u'key': u'Americas',\n",
       "     u'sum_transactionRevene': {u'value': 23480000.0}}],\n",
       "   u'doc_count_error_upper_bound': 0,\n",
       "   u'sum_other_doc_count': 0},\n",
       "  u'doc_count': 201,\n",
       "  u'key': u'3608475193341679870'},\n",
       " {u'by_continent': {u'buckets': [{u'doc_count': 199,\n",
       "     u'key': u'Americas',\n",
       "     u'sum_transactionRevene': {u'value': 0.0}}],\n",
       "   u'doc_count_error_upper_bound': 0,\n",
       "   u'sum_other_doc_count': 0},\n",
       "  u'doc_count': 199,\n",
       "  u'key': u'1856749147915772585'},\n",
       " {u'by_continent': {u'buckets': [{u'doc_count': 155,\n",
       "     u'key': u'Americas',\n",
       "     u'sum_transactionRevene': {u'value': 179900000.0}}],\n",
       "   u'doc_count_error_upper_bound': 0,\n",
       "   u'sum_other_doc_count': 0},\n",
       "  u'doc_count': 155,\n",
       "  u'key': u'3269834865385146569'},\n",
       " {u'by_continent': {u'buckets': [{u'doc_count': 153,\n",
       "     u'key': u'Asia',\n",
       "     u'sum_transactionRevene': {u'value': 0.0}}],\n",
       "   u'doc_count_error_upper_bound': 0,\n",
       "   u'sum_other_doc_count': 0},\n",
       "  u'doc_count': 153,\n",
       "  u'key': u'0720311197761340948'},\n",
       " {u'by_continent': {u'buckets': [{u'doc_count': 148,\n",
       "     u'key': u'Americas',\n",
       "     u'sum_transactionRevene': {u'value': 25000000.0}}],\n",
       "   u'doc_count_error_upper_bound': 0,\n",
       "   u'sum_other_doc_count': 0},\n",
       "  u'doc_count': 148,\n",
       "  u'key': u'7634897085866546110'},\n",
       " {u'by_continent': {u'buckets': [{u'doc_count': 138,\n",
       "     u'key': u'Americas',\n",
       "     u'sum_transactionRevene': {u'value': 0.0}}],\n",
       "   u'doc_count_error_upper_bound': 0,\n",
       "   u'sum_other_doc_count': 0},\n",
       "  u'doc_count': 138,\n",
       "  u'key': u'4038076683036146727'},\n",
       " {u'by_continent': {u'buckets': [{u'doc_count': 135,\n",
       "     u'key': u'Americas',\n",
       "     u'sum_transactionRevene': {u'value': 17980000.0}}],\n",
       "   u'doc_count_error_upper_bound': 0,\n",
       "   u'sum_other_doc_count': 0},\n",
       "  u'doc_count': 135,\n",
       "  u'key': u'0232377434237234751'},\n",
       " {u'by_continent': {u'buckets': [{u'doc_count': 128,\n",
       "     u'key': u'Americas',\n",
       "     u'sum_transactionRevene': {u'value': 15190000.0}},\n",
       "    {u'doc_count': 1,\n",
       "     u'key': u'Europe',\n",
       "     u'sum_transactionRevene': {u'value': 0.0}}],\n",
       "   u'doc_count_error_upper_bound': 0,\n",
       "   u'sum_other_doc_count': 0},\n",
       "  u'doc_count': 129,\n",
       "  u'key': u'3694234028523165868'}]"
      ]
     },
     "execution_count": 63,
     "metadata": {},
     "output_type": "execute_result"
    }
   ],
   "source": [
    "getDataFromES(\"hoge\")"
   ]
  },
  {
   "cell_type": "code",
   "execution_count": null,
   "metadata": {},
   "outputs": [],
   "source": [
    "\n",
    "\n"
   ]
  }
 ],
 "metadata": {
  "kernelspec": {
   "display_name": "Python 3",
   "language": "python",
   "name": "python3"
  },
  "language_info": {
   "codemirror_mode": {
    "name": "ipython",
    "version": 2
   },
   "file_extension": ".py",
   "mimetype": "text/x-python",
   "name": "python",
   "nbconvert_exporter": "python",
   "pygments_lexer": "ipython2",
   "version": "2.7.5"
  }
 },
 "nbformat": 4,
 "nbformat_minor": 2
}
