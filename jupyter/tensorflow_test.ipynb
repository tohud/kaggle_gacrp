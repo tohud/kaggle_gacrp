{
 "cells": [
  {
   "cell_type": "code",
   "execution_count": 1,
   "metadata": {},
   "outputs": [
    {
     "name": "stdout",
     "output_type": "stream",
     "text": [
      "1.11.0\n",
      "初期状態\n",
      "誤差18.0\n",
      "slope: 1.000000, y-intercept: 0.000000\n"
     ]
    },
    {
     "name": "stderr",
     "output_type": "stream",
     "text": [
      "*** start ***\n"
     ]
    },
    {
     "name": "stdout",
     "output_type": "stream",
     "text": [
      "\n",
      "Step: 20\n",
      "誤差3.13032\n",
      "slope: 0.032173, y-intercept: 2.245966\n",
      "\n",
      "Step: 40\n",
      "誤差0.752317\n",
      "slope: -0.239140, y-intercept: 3.394981\n",
      "\n",
      "Step: 60\n",
      "誤差0.180807\n",
      "slope: -0.372117, y-intercept: 3.958278\n",
      "\n",
      "Step: 80\n",
      "誤差0.0434538\n",
      "slope: -0.437307, y-intercept: 4.234427\n",
      "\n",
      "Step: 100\n",
      "誤差0.0104434\n",
      "slope: -0.469265, y-intercept: 4.369806\n"
     ]
    },
    {
     "name": "stderr",
     "output_type": "stream",
     "text": [
      "*** end ***\n"
     ]
    }
   ],
   "source": [
    "import sys\n",
    "import tensorflow as tf\n",
    "import lightgbm as lgb\n",
    "print(tf.__version__)\n",
    "\n",
    "sys.stderr.write(\"*** start ***\\n\")\n",
    "\n",
    "input_x = [[1.],[5.]]\n",
    "input_y = [[4.],[2.]]\n",
    "\n",
    "x = tf.placeholder(\"float\", [None, 1])\n",
    "y_ = tf.placeholder(\"float\", [None, 1])\n",
    "\n",
    "a = tf.Variable([1.], name=\"slope\")\n",
    "b = tf.Variable([0.], name=\"y-intercept\")\n",
    "y = tf.multiply(a, x) + b\n",
    "\n",
    "init = tf.global_variables_initializer()\n",
    "\n",
    "# 誤差関数\n",
    "loss = tf.reduce_sum(tf.square(y_ - y))\n",
    "\n",
    "# トレーニング方法は、勾配降下法を選択\n",
    "train_step = tf.train.GradientDescentOptimizer(0.03).minimize(loss)\n",
    "\n",
    "\n",
    "with tf.Session() as sess:\n",
    "    sess.run(init)\n",
    "    print('初期状態')\n",
    "    print('誤差' + str(sess.run(loss, feed_dict={x: input_x, y_: input_y})))\n",
    "    print(\"slope: %f, y-intercept: %f\" % (sess.run(a), sess.run(b)))\n",
    "\n",
    "    for step in range(100):\n",
    "        sess.run(train_step, feed_dict={x: input_x, y_: input_y})\n",
    "        if (step+1) % 20 == 0:\n",
    "            print('\\nStep: %s' % (step+1))\n",
    "            print('誤差' + str(sess.run(loss, feed_dict={x: input_x, y_: input_y})))\n",
    "            print(\"slope: %f, y-intercept: %f\" % (sess.run(a), sess.run(b)))\n",
    "#\n",
    "sys.stderr.write(\"*** end ***\\n\")"
   ]
  },
  {
   "cell_type": "code",
   "execution_count": null,
   "metadata": {},
   "outputs": [],
   "source": []
  },
  {
   "cell_type": "code",
   "execution_count": null,
   "metadata": {},
   "outputs": [],
   "source": []
  }
 ],
 "metadata": {
  "kernelspec": {
   "display_name": "Python 3",
   "language": "python",
   "name": "python3"
  },
  "language_info": {
   "codemirror_mode": {
    "name": "ipython",
    "version": 2
   },
   "file_extension": ".py",
   "mimetype": "text/x-python",
   "name": "python",
   "nbconvert_exporter": "python",
   "pygments_lexer": "ipython2",
   "version": "2.7.5"
  }
 },
 "nbformat": 4,
 "nbformat_minor": 2
}
