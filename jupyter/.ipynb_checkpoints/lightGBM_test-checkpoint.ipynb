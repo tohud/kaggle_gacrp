{
 "cells": [
  {
   "cell_type": "code",
   "execution_count": 254,
   "metadata": {},
   "outputs": [],
   "source": [
    "import numpy as np\n",
    "import lightgbm as lgb\n",
    "import os"
   ]
  },
  {
   "cell_type": "code",
   "execution_count": 255,
   "metadata": {},
   "outputs": [],
   "source": [
    "gacrp_home=os.environ['GACRP_HOME']"
   ]
  },
  {
   "cell_type": "code",
   "execution_count": 256,
   "metadata": {},
   "outputs": [],
   "source": [
    "import pandas as pd\n",
    "import numpy as np\n",
    "import matplotlib.pyplot as plt\n",
    "import seaborn as sns\n",
    "from sklearn.metrics import mean_squared_error\n",
    "import gc\n",
    "import time\n",
    "from pandas.core.common import SettingWithCopyWarning\n",
    "import warnings\n",
    "import lightgbm as lgb\n",
    "from sklearn.model_selection import GroupKFold"
   ]
  },
  {
   "cell_type": "code",
   "execution_count": 257,
   "metadata": {},
   "outputs": [],
   "source": [
    "warnings.simplefilter('error', SettingWithCopyWarning)\n",
    "gc.enable()\n",
    "%matplotlib inline"
   ]
  },
  {
   "cell_type": "code",
   "execution_count": 258,
   "metadata": {},
   "outputs": [],
   "source": [
    "train= pd.read_csv(gacrp_home+\"/dat/train_flat_100.csv\"\n",
    "                   ,dtype={'date':str,'fullVisitorId':str,'sessionId':str,'adContent':str})"
   ]
  },
  {
   "cell_type": "code",
   "execution_count": 259,
   "metadata": {},
   "outputs": [
    {
     "name": "stdout",
     "output_type": "stream",
     "text": [
      "(99, 55)\n"
     ]
    }
   ],
   "source": [
    "print(train.shape)"
   ]
  },
  {
   "cell_type": "code",
   "execution_count": 260,
   "metadata": {},
   "outputs": [],
   "source": [
    "def get_folds(df=None,n_splits=5):\n",
    "    unique_vis = np.array(sorted(df['fullVisitorId'].unique()))\n",
    "    print(len(unique_vis))\n",
    "    folds = GroupKFold(n_splits=n_splits)\n",
    "    fold_ids=[]\n",
    "    #idsはindexっぽい\n",
    "    ids = np.arange(df.shape[0])\n",
    "    for trn_vis,val_vis in folds.split(X=unique_vis,y=unique_vis,groups=unique_vis):\n",
    "        fold_ids.append(\n",
    "            [\n",
    "                ids[df['fullVisitorId'].isin(unique_vis[trn_vis])],\n",
    "                ids[df['fullVisitorId'].isin(unique_vis[val_vis])]\n",
    "            ]\n",
    "        )\n",
    "    #print(len(fold_ids))\n",
    "    return fold_ids\n",
    "        "
   ]
  },
  {
   "cell_type": "code",
   "execution_count": 261,
   "metadata": {},
   "outputs": [],
   "source": [
    "# transactionRevenueは教師側に持っていく\n",
    "y_reg=train['transactionRevenue'].fillna(0)\n",
    "del train['transactionRevenue']\n"
   ]
  },
  {
   "cell_type": "code",
   "execution_count": 262,
   "metadata": {},
   "outputs": [],
   "source": [
    "for df in [train]:\n",
    "    df['date']=pd.to_datetime(df['visitStartTime'],unit='s')\n",
    "    df['sess_date_dow']=df['date'].dt.dayofweek\n",
    "    df['sess_date_hours']=df['date'].dt.hour\n",
    "    df['sess_date_dom']=df['date'].dt.day"
   ]
  },
  {
   "cell_type": "code",
   "execution_count": 263,
   "metadata": {},
   "outputs": [
    {
     "name": "stdout",
     "output_type": "stream",
     "text": [
      "['channelGrouping', 'browser', 'operatingSystem', 'deviceCategory', 'continent', 'subContinent', 'country', 'region', 'metro', 'city', 'networkDomain', 'campaign', 'source', 'medium', 'keyword', 'isTrueDirect', 'referralPath', 'adContent']\n"
     ]
    }
   ],
   "source": [
    "excluded_features=[\n",
    "    'date','fullVisitorId','sessionId','transactionRevenue','visitId','visitStartTime',\n",
    "    'adwordsClickInfo.adNetworkType','browserSize','browserVersion','campaignCode','cityId','adwordsClickInfo.criteriaParameters','flashVersion','adwordsClickInfo.gclId','adwordsClickInfo.isVideoAd','language','latitude','longitude','mobileDeviceBranding','mobileDeviceInfo','mobileDeviceMarketingName','mobileDeviceModel','mobileInputSelector','networkLocation','operatingSystemVersion','adwordsClickInfo.page','screenColors','screenResolution','adwordsClickInfo.slot','socialEngagementType','visits'\n",
    "]\n",
    "categorical_features=[\n",
    "    _f for _f in train.columns\n",
    "    if (_f not in excluded_features) & (train[_f].dtype =='object')\n",
    "]\n",
    "print(categorical_features)"
   ]
  },
  {
   "cell_type": "code",
   "execution_count": 264,
   "metadata": {},
   "outputs": [],
   "source": [
    "for f in categorical_features:\n",
    "    train[f],indexer = pd.factorize(train[f])\n",
    "    "
   ]
  },
  {
   "cell_type": "code",
   "execution_count": 265,
   "metadata": {},
   "outputs": [],
   "source": [
    "#print(train['continent'][0:100])"
   ]
  },
  {
   "cell_type": "code",
   "execution_count": 269,
   "metadata": {},
   "outputs": [
    {
     "name": "stdout",
     "output_type": "stream",
     "text": [
      "98\n",
      "('folds:', [[array([ 2,  3,  4,  5,  6,  7,  8,  9, 10, 11, 12, 13, 14, 15, 19, 21, 22,\n",
      "       23, 24, 26, 27, 28, 29, 30, 32, 33, 36, 37, 39, 40, 41, 43, 44, 45,\n",
      "       46, 47, 48, 49, 50, 51, 52, 53, 54, 55, 56, 57, 58, 60, 61, 62, 63,\n",
      "       65, 67, 68, 69, 70, 71, 72, 73, 75, 76, 77, 79, 80, 82, 83, 85, 86,\n",
      "       87, 88, 89, 90, 91, 93, 94, 95, 96, 97, 98]), array([ 0,  1, 16, 17, 18, 20, 25, 31, 34, 35, 38, 42, 59, 64, 66, 74, 78,\n",
      "       81, 84, 92])], [array([ 0,  1,  2,  3,  5,  6,  8,  9, 10, 11, 12, 13, 14, 15, 16, 17, 18,\n",
      "       19, 20, 21, 23, 24, 25, 26, 28, 29, 30, 31, 32, 33, 34, 35, 36, 37,\n",
      "       38, 39, 40, 41, 42, 43, 45, 47, 48, 50, 51, 52, 53, 55, 56, 57, 58,\n",
      "       59, 62, 63, 64, 65, 66, 67, 69, 70, 71, 72, 74, 75, 76, 77, 78, 80,\n",
      "       81, 82, 84, 85, 86, 88, 91, 92, 94, 95, 98]), array([ 4,  7, 22, 27, 44, 46, 49, 54, 60, 61, 68, 73, 79, 83, 87, 89, 90,\n",
      "       93, 96, 97])], [array([ 0,  1,  3,  4,  5,  6,  7,  8,  9, 10, 13, 14, 15, 16, 17, 18, 19,\n",
      "       20, 21, 22, 25, 26, 27, 28, 29, 31, 32, 33, 34, 35, 37, 38, 39, 41,\n",
      "       42, 44, 46, 47, 48, 49, 50, 51, 53, 54, 57, 58, 59, 60, 61, 62, 63,\n",
      "       64, 65, 66, 67, 68, 69, 70, 71, 72, 73, 74, 75, 78, 79, 81, 82, 83,\n",
      "       84, 86, 87, 89, 90, 91, 92, 93, 96, 97, 98]), array([ 2, 11, 12, 23, 24, 30, 36, 40, 43, 45, 52, 55, 56, 76, 77, 80, 85,\n",
      "       88, 94, 95])], [array([ 0,  1,  2,  4,  6,  7,  8, 11, 12, 13, 14, 15, 16, 17, 18, 20, 21,\n",
      "       22, 23, 24, 25, 26, 27, 30, 31, 32, 34, 35, 36, 37, 38, 40, 42, 43,\n",
      "       44, 45, 46, 48, 49, 50, 52, 53, 54, 55, 56, 57, 58, 59, 60, 61, 62,\n",
      "       64, 66, 67, 68, 69, 72, 73, 74, 75, 76, 77, 78, 79, 80, 81, 82, 83,\n",
      "       84, 85, 87, 88, 89, 90, 92, 93, 94, 95, 96, 97]), array([ 3,  5,  9, 10, 19, 28, 29, 33, 39, 41, 47, 51, 63, 65, 70, 71, 86,\n",
      "       91, 98])], [array([ 0,  1,  2,  3,  4,  5,  7,  9, 10, 11, 12, 16, 17, 18, 19, 20, 22,\n",
      "       23, 24, 25, 27, 28, 29, 30, 31, 33, 34, 35, 36, 38, 39, 40, 41, 42,\n",
      "       43, 44, 45, 46, 47, 49, 51, 52, 54, 55, 56, 59, 60, 61, 63, 64, 65,\n",
      "       66, 68, 70, 71, 73, 74, 76, 77, 78, 79, 80, 81, 83, 84, 85, 86, 87,\n",
      "       88, 89, 90, 91, 92, 93, 94, 95, 96, 97, 98]), array([ 6,  8, 13, 14, 15, 21, 26, 32, 37, 48, 50, 53, 57, 58, 62, 67, 69,\n",
      "       72, 75, 82])]])\n",
      "['channelGrouping', 'visitNumber', 'browser', 'operatingSystem', 'isMobile', 'deviceCategory', 'continent', 'subContinent', 'country', 'region', 'metro', 'city', 'networkDomain', 'hits', 'pageviews', 'bounces', 'newVisits', 'campaign', 'source', 'medium', 'keyword', 'isTrueDirect', 'referralPath', 'adContent', 'sess_date_dow', 'sess_date_hours', 'sess_date_dom']\n",
      "27\n"
     ]
    }
   ],
   "source": [
    "# prediction\n",
    "folds = get_folds(df=train,n_splits=5)\n",
    "#foldsは分割データのインデックスの配列（2,3,5,7…とか。）\n",
    "#print(\"folds:\",folds)\n",
    "train_features=[_f for _f in train.columns if _f not in excluded_features]\n",
    "print(train_features)\n",
    "print(len(train_features))"
   ]
  },
  {
   "cell_type": "code",
   "execution_count": null,
   "metadata": {},
   "outputs": [],
   "source": [
    "importances = pd.DataFrame()\n",
    "oof_reg_preds = np.zeros(train.shape[0])"
   ]
  },
  {
   "cell_type": "code",
   "execution_count": null,
   "metadata": {},
   "outputs": [],
   "source": [
    "for fold_ , (trn_,val_)in enumerate(folds):\n",
    "    trn_x,trn_y = train[train_features].iloc[trn_],y_reg.iloc[trn_]\n",
    "    val_x,val_y = train[train_features].iloc[val_],y_reg.iloc[val_]\n",
    "    \n",
    "    reg= lgb.LGBMRegressor(\n",
    "        num_leaves=31,\n",
    "        learning_rage=0.03,\n",
    "        n_estimators=1000,\n",
    "        subsample=0.9,\n",
    "        colsample_bytree=0.9,\n",
    "        random_state=1\n",
    "    )\n",
    "    reg.fit(\n",
    "        trn_x,np.log1p(trn_y),\n",
    "        eval_set=[(val_x,np.log1p(val_y))],\n",
    "        early_stopping_rounds=50,\n",
    "        verbose=100\n",
    "        eval_metric='rmse'\n",
    "    )"
   ]
  },
  {
   "cell_type": "code",
   "execution_count": null,
   "metadata": {},
   "outputs": [],
   "source": []
  }
 ],
 "metadata": {
  "kernelspec": {
   "display_name": "Python 3",
   "language": "python",
   "name": "python3"
  },
  "language_info": {
   "codemirror_mode": {
    "name": "ipython",
    "version": 2
   },
   "file_extension": ".py",
   "mimetype": "text/x-python",
   "name": "python",
   "nbconvert_exporter": "python",
   "pygments_lexer": "ipython2",
   "version": "2.7.5"
  }
 },
 "nbformat": 4,
 "nbformat_minor": 2
}
