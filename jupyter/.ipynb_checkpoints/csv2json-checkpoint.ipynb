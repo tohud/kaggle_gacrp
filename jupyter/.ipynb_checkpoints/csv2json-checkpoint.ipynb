{
 "cells": [
  {
   "cell_type": "code",
   "execution_count": 16,
   "metadata": {},
   "outputs": [],
   "source": [
    "import csv\n",
    "import json\n",
    "import os\n",
    "\n",
    "index_name = \"gacrp_index\"\n",
    "type_name  = \"gacrp_type\"\n",
    "GACRP_HOME=os.environ['GACRP_HOME']\n",
    "GACRP_DAT = GACRP_HOME+\"/dat\""
   ]
  },
  {
   "cell_type": "code",
   "execution_count": 17,
   "metadata": {},
   "outputs": [],
   "source": [
    "def csv2json():\n",
    "    csv_file = open(GACRP_DAT+\"/train_flat.csv\")\n",
    "    json_file = open(GACRP_DAT+\"/train.json\",'w')\n",
    "    blk_file = open(GACRP_DAT+\"/train_blk.json\",'w')\n",
    "    fieldnames=(\"channelGrouping\",\"date\",\"fullVisitorId\",\"sessionId\",\"socialEngagementType\",\"visitId\",\"visitNumber\",\"visitStartTime\",\"browser\",\"browserVersion\",\"browserSize\",\"operatingSystem\",\"operatingSystemVersion\",\"isMobile\",\"mobileDeviceBranding\",\"mobileDeviceModel\",\"mobileInputSelector\",\"mobileDeviceInfo\",\"mobileDeviceMarketingName\",\"flashVersion\",\"language\",\"screenColors\",\"screenResolution\",\"deviceCategory\",\"continent\",\"subContinent\",\"country\",\"region\",\"metro\",\"city\",\"cityId\",\"networkDomain\",\"latitude\",\"longitude\",\"networkLocation\",\"visits\",\"hits\",\"pageviews\",\"bounces\",\"newVisits\",\"transactionRevenue\",\"campaign\",\"source\",\"medium\",\"keyword\",\"isTrueDirect\",\"referralPath\",\"adContent\",\"campaignCode\",\"adwordsClickInfo.criteriaParameters\",\"adwordsClickInfo.page\",\"adwordsClickInfo.slot\",\"adwordsClickInfo.gclId\",\"adwordsClickInfo.adNetworkType\",\"adwordsClickInfo.isVideoAd\")\n",
    "\n",
    "    reader = csv.DictReader(csv_file,fieldnames)\n",
    "    i = 0\n",
    "    datas = []\n",
    "    json_file.write('{')\n",
    "    for row in reader:\n",
    "        i+=1\n",
    "        #1行目は項目名なので削る\n",
    "        if i==1:\n",
    "            continue\n",
    "        #途中経過の表示用\n",
    "        if i%100000 == 0:\n",
    "            print(\"read:\",i)\n",
    "        #json_file.write('{')\n",
    "        if row['transactionRevenue']=='NA':\n",
    "            row['transactionRevenue']=0\n",
    "        json.dump(row,json_file)\n",
    "        json_file.write(',\\n')\n",
    "        #json_file.write('},\\n')\n",
    "        \n",
    "        #elasticsearchへのbulkinsert用のjson-likeファイルを作る\n",
    "        blk_file.write('{\"index\":{\"_index\":\"'+index_name+'\",\"_type\":\"'+type_name+'\"}\\n')\n",
    "        json.dump(row,blk_file)\n",
    "        blk_file.write('\\n')\n",
    "                       \n",
    "    json_file.write('}')\n"
   ]
  },
  {
   "cell_type": "code",
   "execution_count": null,
   "metadata": {},
   "outputs": [],
   "source": []
  },
  {
   "cell_type": "code",
   "execution_count": 18,
   "metadata": {},
   "outputs": [],
   "source": [
    "def main():\n",
    "    csv2json()\n"
   ]
  },
  {
   "cell_type": "code",
   "execution_count": 19,
   "metadata": {},
   "outputs": [
    {
     "name": "stdout",
     "output_type": "stream",
     "text": [
      "('read:', 100000)\n",
      "('read:', 200000)\n",
      "('read:', 300000)\n",
      "('read:', 400000)\n",
      "('read:', 500000)\n",
      "('read:', 600000)\n",
      "('read:', 700000)\n",
      "('read:', 800000)\n",
      "('read:', 900000)\n"
     ]
    }
   ],
   "source": [
    "if __name__ == '__main__':\n",
    "    main()"
   ]
  },
  {
   "cell_type": "code",
   "execution_count": null,
   "metadata": {},
   "outputs": [],
   "source": []
  }
 ],
 "metadata": {
  "kernelspec": {
   "display_name": "Python 3",
   "language": "python",
   "name": "python3"
  },
  "language_info": {
   "codemirror_mode": {
    "name": "ipython",
    "version": 2
   },
   "file_extension": ".py",
   "mimetype": "text/x-python",
   "name": "python",
   "nbconvert_exporter": "python",
   "pygments_lexer": "ipython2",
   "version": "2.7.5"
  }
 },
 "nbformat": 4,
 "nbformat_minor": 2
}
