{
 "cells": [
  {
   "cell_type": "code",
   "execution_count": 1,
   "metadata": {},
   "outputs": [],
   "source": [
    "import csv\n",
    "import json\n",
    "index_name = \"gacrp_index\"\n",
    "type_name  = \"gacrp_type\"\n",
    "root_dir = \"/home/kaggleuser/google-analytics-customer-revenue-prediction/dat\""
   ]
  },
  {
   "cell_type": "code",
   "execution_count": 2,
   "metadata": {},
   "outputs": [],
   "source": [
    "def csv2json():\n",
    "    csv_file = open(root_dir+\"/train_flat.csv\")\n",
    "    json_file = open(root_dir+\"/train.json\",'w')\n",
    "    blk_file = open(root_dir+\"/train_blk.json\",'w')\n",
    "    fieldnames=(\"channelGrouping\",\"date\",\"fullVisitorId\",\"sessionId\",\"socialEngagementType\",\"visitId\",\"visitNumber\",\"visitStartTime\",\"browser\",\"browserVersion\",\"browserSize\",\"operatingSystem\",\"operatingSystemVersion\",\"isMobile\",\"mobileDeviceBranding\",\"mobileDeviceModel\",\"mobileInputSelector\",\"mobileDeviceInfo\",\"mobileDeviceMarketingName\",\"flashVersion\",\"language\",\"screenColors\",\"screenResolution\",\"deviceCategory\",\"continent\",\"subContinent\",\"country\",\"region\",\"metro\",\"city\",\"cityId\",\"networkDomain\",\"latitude\",\"longitude\",\"networkLocation\",\"visits\",\"hits\",\"pageviews\",\"bounces\",\"newVisits\",\"transactionRevenue\",\"campaign\",\"source\",\"medium\",\"keyword\",\"isTrueDirect\",\"referralPath\",\"adContent\",\"campaignCode\",\"adwordsClickInfo.criteriaParameters\",\"adwordsClickInfo.page\",\"adwordsClickInfo.slot\",\"adwordsClickInfo.gclId\",\"adwordsClickInfo.adNetworkType\",\"adwordsClickInfo.isVideoAd\")\n",
    "\n",
    "    reader = csv.DictReader(csv_file,fieldnames)\n",
    "    i = 0\n",
    "    datas = []\n",
    "    json_file.write('{')\n",
    "    for row in reader:\n",
    "        i+=1\n",
    "        #1行目は項目名なので削る\n",
    "        if i==1:\n",
    "            continue\n",
    "        #途中経過の表示用\n",
    "        if i%100000 == 0:\n",
    "            print(\"read:\",i)\n",
    "        #json_file.write('{')\n",
    "        json.dump(row,json_file)\n",
    "        json_file.write(',\\n')\n",
    "        #json_file.write('},\\n')\n",
    "        \n",
    "        #write file for bulkinsert to elasticSearch\n",
    "        blk_file.write('{\"index\":{\"_index\":\"'+index_name+'\",\"_type\":\"'+type_name+'\"}\\n')\n",
    "        json.dump(row,blk_file)\n",
    "        blk_file.write('\\n')\n",
    "                       \n",
    "    json_file.write('}')\n"
   ]
  },
  {
   "cell_type": "code",
   "execution_count": null,
   "metadata": {},
   "outputs": [],
   "source": []
  },
  {
   "cell_type": "code",
   "execution_count": 3,
   "metadata": {},
   "outputs": [],
   "source": [
    "def main():\n",
    "    csv2json()\n"
   ]
  },
  {
   "cell_type": "code",
   "execution_count": 4,
   "metadata": {},
   "outputs": [
    {
     "ename": "IOError",
     "evalue": "[Errno 2] No such file or directory: '~/google-analytics-customer-revenue-prediction/dat/train_flat.csv'",
     "output_type": "error",
     "traceback": [
      "\u001b[0;31m\u001b[0m",
      "\u001b[0;31mIOError\u001b[0mTraceback (most recent call last)",
      "\u001b[0;32m<ipython-input-4-c7bc734e5e35>\u001b[0m in \u001b[0;36m<module>\u001b[0;34m()\u001b[0m\n\u001b[1;32m      1\u001b[0m \u001b[0;32mif\u001b[0m \u001b[0m__name__\u001b[0m \u001b[0;34m==\u001b[0m \u001b[0;34m'__main__'\u001b[0m\u001b[0;34m:\u001b[0m\u001b[0;34m\u001b[0m\u001b[0m\n\u001b[0;32m----> 2\u001b[0;31m     \u001b[0mmain\u001b[0m\u001b[0;34m(\u001b[0m\u001b[0;34m)\u001b[0m\u001b[0;34m\u001b[0m\u001b[0m\n\u001b[0m",
      "\u001b[0;32m<ipython-input-3-90ef131ab8bb>\u001b[0m in \u001b[0;36mmain\u001b[0;34m()\u001b[0m\n\u001b[1;32m      1\u001b[0m \u001b[0;32mdef\u001b[0m \u001b[0mmain\u001b[0m\u001b[0;34m(\u001b[0m\u001b[0;34m)\u001b[0m\u001b[0;34m:\u001b[0m\u001b[0;34m\u001b[0m\u001b[0m\n\u001b[0;32m----> 2\u001b[0;31m     \u001b[0mcsv2json\u001b[0m\u001b[0;34m(\u001b[0m\u001b[0;34m)\u001b[0m\u001b[0;34m\u001b[0m\u001b[0m\n\u001b[0m",
      "\u001b[0;32m<ipython-input-2-4358b18dee3d>\u001b[0m in \u001b[0;36mcsv2json\u001b[0;34m()\u001b[0m\n\u001b[1;32m      1\u001b[0m \u001b[0;32mdef\u001b[0m \u001b[0mcsv2json\u001b[0m\u001b[0;34m(\u001b[0m\u001b[0;34m)\u001b[0m\u001b[0;34m:\u001b[0m\u001b[0;34m\u001b[0m\u001b[0m\n\u001b[0;32m----> 2\u001b[0;31m     \u001b[0mcsv_file\u001b[0m \u001b[0;34m=\u001b[0m \u001b[0mopen\u001b[0m\u001b[0;34m(\u001b[0m\u001b[0mroot_dir\u001b[0m\u001b[0;34m+\u001b[0m\u001b[0;34m\"/train_flat.csv\"\u001b[0m\u001b[0;34m)\u001b[0m\u001b[0;34m\u001b[0m\u001b[0m\n\u001b[0m\u001b[1;32m      3\u001b[0m     \u001b[0mjson_file\u001b[0m \u001b[0;34m=\u001b[0m \u001b[0mopen\u001b[0m\u001b[0;34m(\u001b[0m\u001b[0mroot_dir\u001b[0m\u001b[0;34m+\u001b[0m\u001b[0;34m\"/train.json\"\u001b[0m\u001b[0;34m,\u001b[0m\u001b[0;34m'w'\u001b[0m\u001b[0;34m)\u001b[0m\u001b[0;34m\u001b[0m\u001b[0m\n\u001b[1;32m      4\u001b[0m     \u001b[0mblk_file\u001b[0m \u001b[0;34m=\u001b[0m \u001b[0mopen\u001b[0m\u001b[0;34m(\u001b[0m\u001b[0mroot_dir\u001b[0m\u001b[0;34m+\u001b[0m\u001b[0;34m\"/train_blk.json\"\u001b[0m\u001b[0;34m,\u001b[0m\u001b[0;34m'w'\u001b[0m\u001b[0;34m)\u001b[0m\u001b[0;34m\u001b[0m\u001b[0m\n\u001b[1;32m      5\u001b[0m     \u001b[0mfieldnames\u001b[0m\u001b[0;34m=\u001b[0m\u001b[0;34m(\u001b[0m\u001b[0;34m\"channelGrouping\"\u001b[0m\u001b[0;34m,\u001b[0m\u001b[0;34m\"date\"\u001b[0m\u001b[0;34m,\u001b[0m\u001b[0;34m\"fullVisitorId\"\u001b[0m\u001b[0;34m,\u001b[0m\u001b[0;34m\"sessionId\"\u001b[0m\u001b[0;34m,\u001b[0m\u001b[0;34m\"socialEngagementType\"\u001b[0m\u001b[0;34m,\u001b[0m\u001b[0;34m\"visitId\"\u001b[0m\u001b[0;34m,\u001b[0m\u001b[0;34m\"visitNumber\"\u001b[0m\u001b[0;34m,\u001b[0m\u001b[0;34m\"visitStartTime\"\u001b[0m\u001b[0;34m,\u001b[0m\u001b[0;34m\"browser\"\u001b[0m\u001b[0;34m,\u001b[0m\u001b[0;34m\"browserVersion\"\u001b[0m\u001b[0;34m,\u001b[0m\u001b[0;34m\"browserSize\"\u001b[0m\u001b[0;34m,\u001b[0m\u001b[0;34m\"operatingSystem\"\u001b[0m\u001b[0;34m,\u001b[0m\u001b[0;34m\"operatingSystemVersion\"\u001b[0m\u001b[0;34m,\u001b[0m\u001b[0;34m\"isMobile\"\u001b[0m\u001b[0;34m,\u001b[0m\u001b[0;34m\"mobileDeviceBranding\"\u001b[0m\u001b[0;34m,\u001b[0m\u001b[0;34m\"mobileDeviceModel\"\u001b[0m\u001b[0;34m,\u001b[0m\u001b[0;34m\"mobileInputSelector\"\u001b[0m\u001b[0;34m,\u001b[0m\u001b[0;34m\"mobileDeviceInfo\"\u001b[0m\u001b[0;34m,\u001b[0m\u001b[0;34m\"mobileDeviceMarketingName\"\u001b[0m\u001b[0;34m,\u001b[0m\u001b[0;34m\"flashVersion\"\u001b[0m\u001b[0;34m,\u001b[0m\u001b[0;34m\"language\"\u001b[0m\u001b[0;34m,\u001b[0m\u001b[0;34m\"screenColors\"\u001b[0m\u001b[0;34m,\u001b[0m\u001b[0;34m\"screenResolution\"\u001b[0m\u001b[0;34m,\u001b[0m\u001b[0;34m\"deviceCategory\"\u001b[0m\u001b[0;34m,\u001b[0m\u001b[0;34m\"continent\"\u001b[0m\u001b[0;34m,\u001b[0m\u001b[0;34m\"subContinent\"\u001b[0m\u001b[0;34m,\u001b[0m\u001b[0;34m\"country\"\u001b[0m\u001b[0;34m,\u001b[0m\u001b[0;34m\"region\"\u001b[0m\u001b[0;34m,\u001b[0m\u001b[0;34m\"metro\"\u001b[0m\u001b[0;34m,\u001b[0m\u001b[0;34m\"city\"\u001b[0m\u001b[0;34m,\u001b[0m\u001b[0;34m\"cityId\"\u001b[0m\u001b[0;34m,\u001b[0m\u001b[0;34m\"networkDomain\"\u001b[0m\u001b[0;34m,\u001b[0m\u001b[0;34m\"latitude\"\u001b[0m\u001b[0;34m,\u001b[0m\u001b[0;34m\"longitude\"\u001b[0m\u001b[0;34m,\u001b[0m\u001b[0;34m\"networkLocation\"\u001b[0m\u001b[0;34m,\u001b[0m\u001b[0;34m\"visits\"\u001b[0m\u001b[0;34m,\u001b[0m\u001b[0;34m\"hits\"\u001b[0m\u001b[0;34m,\u001b[0m\u001b[0;34m\"pageviews\"\u001b[0m\u001b[0;34m,\u001b[0m\u001b[0;34m\"bounces\"\u001b[0m\u001b[0;34m,\u001b[0m\u001b[0;34m\"newVisits\"\u001b[0m\u001b[0;34m,\u001b[0m\u001b[0;34m\"transactionRevenue\"\u001b[0m\u001b[0;34m,\u001b[0m\u001b[0;34m\"campaign\"\u001b[0m\u001b[0;34m,\u001b[0m\u001b[0;34m\"source\"\u001b[0m\u001b[0;34m,\u001b[0m\u001b[0;34m\"medium\"\u001b[0m\u001b[0;34m,\u001b[0m\u001b[0;34m\"keyword\"\u001b[0m\u001b[0;34m,\u001b[0m\u001b[0;34m\"isTrueDirect\"\u001b[0m\u001b[0;34m,\u001b[0m\u001b[0;34m\"referralPath\"\u001b[0m\u001b[0;34m,\u001b[0m\u001b[0;34m\"adContent\"\u001b[0m\u001b[0;34m,\u001b[0m\u001b[0;34m\"campaignCode\"\u001b[0m\u001b[0;34m,\u001b[0m\u001b[0;34m\"adwordsClickInfo.criteriaParameters\"\u001b[0m\u001b[0;34m,\u001b[0m\u001b[0;34m\"adwordsClickInfo.page\"\u001b[0m\u001b[0;34m,\u001b[0m\u001b[0;34m\"adwordsClickInfo.slot\"\u001b[0m\u001b[0;34m,\u001b[0m\u001b[0;34m\"adwordsClickInfo.gclId\"\u001b[0m\u001b[0;34m,\u001b[0m\u001b[0;34m\"adwordsClickInfo.adNetworkType\"\u001b[0m\u001b[0;34m,\u001b[0m\u001b[0;34m\"adwordsClickInfo.isVideoAd\"\u001b[0m\u001b[0;34m)\u001b[0m\u001b[0;34m\u001b[0m\u001b[0m\n",
      "\u001b[0;31mIOError\u001b[0m: [Errno 2] No such file or directory: '~/google-analytics-customer-revenue-prediction/dat/train_flat.csv'"
     ]
    }
   ],
   "source": [
    "if __name__ == '__main__':\n",
    "    main()"
   ]
  },
  {
   "cell_type": "code",
   "execution_count": null,
   "metadata": {},
   "outputs": [],
   "source": []
  }
 ],
 "metadata": {
  "kernelspec": {
   "display_name": "Python 3",
   "language": "python",
   "name": "python3"
  },
  "language_info": {
   "codemirror_mode": {
    "name": "ipython",
    "version": 2
   },
   "file_extension": ".py",
   "mimetype": "text/x-python",
   "name": "python",
   "nbconvert_exporter": "python",
   "pygments_lexer": "ipython2",
   "version": "2.7.5"
  }
 },
 "nbformat": 4,
 "nbformat_minor": 2
}
