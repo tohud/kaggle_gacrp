{
 "cells": [
  {
   "cell_type": "code",
   "execution_count": 1,
   "metadata": {},
   "outputs": [],
   "source": [
    "#前処理後のindex作るための処理\n",
    "import os\n",
    "import elasticsearch as es\n",
    "import math\n",
    "import numpy as np\n",
    "from itertools import chain\n",
    "import sys\n",
    "import tensorflow as tf\n",
    "\n",
    "ES_HOST = \"localhost\"\n",
    "escon = es.Elasticsearch(ES_HOST, port=9200)\n",
    "GACRP_HOME=os.environ['GACRP_HOME']"
   ]
  },
  {
   "cell_type": "code",
   "execution_count": null,
   "metadata": {},
   "outputs": [],
   "source": []
  },
  {
   "cell_type": "code",
   "execution_count": 2,
   "metadata": {},
   "outputs": [],
   "source": [
    "data=[]\n",
    "ans = []\n",
    "\n",
    "# 元データ取得\n",
    "es_size=10000\n",
    "es_s_time='2m'\n",
    "body = {\n",
    "    \"_source\":[\"channelGrouping\",\"visitNumber\",\"isMobile\",\"country\",\"hits\",\"bounces\",\"newVisits\",\"source\",\"medium\",\"isTrueDirect\",\"transactionRevenue\"],\n",
    "    \"query\": {\n",
    "      \"match_all\": {}\n",
    "    }\n",
    "  }\n",
    "  \n",
    "res=escon.search(index='gacrp_index',body=body,scroll=es_s_time,size=es_size)\n",
    "es_s_id=res['_scroll_id']\n",
    "es_s_size=len(res[\"hits\"][\"hits\"])\n"
   ]
  },
  {
   "cell_type": "code",
   "execution_count": 3,
   "metadata": {},
   "outputs": [],
   "source": [
    "#oneHotベクトル化\n",
    "def setByScroll(res,data,ans):\n",
    "    for i in range(len(res[\"hits\"][\"hits\"])):\n",
    "        row=res[\"hits\"][\"hits\"][i][\"_source\"]\n",
    "        rec=[]\n",
    "\n",
    "        if row['channelGrouping']=='Display':\n",
    "            col_channelGrouping=1\n",
    "        elif row['channelGrouping']=='Social':\n",
    "            col_channelGrouping=2\n",
    "        else:\n",
    "            col_channelGrouping=0\n",
    "        oneHot_col_channelGrouping=np.eye(2+1)[col_channelGrouping]\n",
    "        \n",
    "        col_visitNumber=min(int(row['visitNumber']),5)/5.0 \n",
    "\n",
    "        if row['isMobile']==\"TRUE\":\n",
    "            col_isMobile=1\n",
    "        else:\n",
    "            col_isMobile=0\n",
    "\n",
    "        if row['country']==\"United States\":\n",
    "            col_country =1\n",
    "        elif row['country']==\"Canada\":\n",
    "            col_country =2\n",
    "        elif row['country']==\"Japan\":\n",
    "            col_country=3\n",
    "        else:\n",
    "            col_country=0\n",
    "        oneHot_col_country=np.eye(3+1)[col_country]\n",
    "    \n",
    "        col_hits=math.log10(int(row['hits'])*1.0)\n",
    "    \n",
    "        if row['bounces']==\"1\":\n",
    "            col_bounces=1\n",
    "        else:\n",
    "            col_bounces=0\n",
    "\n",
    "        if row['newVisits']== \"1\":\n",
    "            col_newVisits=1\n",
    "        else:\n",
    "            col_newVisits=0\n",
    "    \n",
    "        if row['source']==\"mail.googleplex.com\" or row['source']==\"dfa\":\n",
    "            col_source =1\n",
    "        elif row['source']==\"(direct)\":\n",
    "            col_source=2\n",
    "        else:\n",
    "            col_source=0\n",
    "        oneHot_col_source=np.eye(2+1)[col_source]\n",
    "        \n",
    "        if row['medium']==\"cpm\":\n",
    "            col_medium=1\n",
    "        else:\n",
    "            col_medium=0\n",
    "        oneHot_col_medium=np.eye(1+1)[col_medium]\n",
    "    \n",
    "        if row['isTrueDirect']==\"1\":\n",
    "            col_isTrueDirect=1\n",
    "        else:\n",
    "            col_isTrueDirect=0\n",
    "    \n",
    "        revenue = math.log(int(row['transactionRevenue'])+1)\n",
    "    \n",
    "        l=[oneHot_col_channelGrouping,[col_visitNumber],[col_isMobile],oneHot_col_country,[col_hits],[col_bounces],[col_newVisits],oneHot_col_source,oneHot_col_medium,[col_isTrueDirect]]\n",
    "        data.append(list(chain.from_iterable(l)))\n",
    "        ans.append(revenue)\n",
    "    \n",
    "    return(data,ans)"
   ]
  },
  {
   "cell_type": "code",
   "execution_count": 4,
   "metadata": {},
   "outputs": [],
   "source": [
    "while(es_s_size>0):\n",
    "    data,ans=setByScroll(res,data,ans)\n",
    "    res=escon.scroll(scroll_id=es_s_id,scroll=es_s_time)\n",
    "    es_s_id=res['_scroll_id']\n",
    "    es_s_size=len(res[\"hits\"][\"hits\"])\n",
    "    print(len(data),len(ans))\n",
    "    "
   ]
  },
  {
   "cell_type": "code",
   "execution_count": 62,
   "metadata": {},
   "outputs": [
    {
     "name": "stdout",
     "output_type": "stream",
     "text": [
      "('x:', TensorShape([Dimension(None), Dimension(18)]), 'a:', TensorShape([Dimension(18), Dimension(1)]))\n"
     ]
    }
   ],
   "source": [
    "#tensorflowセットアップ\n",
    "\n",
    "#print(data[0],ans[0])\n",
    "#inputData=tf.transpose(data)\n",
    "debugFlg=False\n",
    "batch_size=1000\n",
    "num_elements=18\n",
    "num_rows=len(data)\n",
    "inputData=np.reshape(data,(num_rows,num_elements))\n",
    "#print(\"data\",data[0])\n",
    "#print(\"inputData\",inputData[0],inputData.shape)\n",
    "inputAns=np.reshape(ans,(num_rows,1))\n",
    "#print(\"AnsShape\",inputAns.shape)\n",
    "#inputAns=ans\n",
    "x =tf.placeholder(\"float\",[None,num_elements])\n",
    "y_=tf.placeholder(\"float\",[None,1])\n",
    "\n",
    "#a=tf.Variable( tf.ones([18,1]),name=\"weights\")\n",
    "a=tf.Variable( tf.random_uniform([18,1],-1.0,1.0),name=\"weights\")    \n",
    "#a=tf.Variable( tf.random_uniform([[18]],-1.0,1.0),name=\"weights\")    \n",
    "#b=tf.Variable(tf.zeros([1,1]),name=\"intercept\")\n",
    "#b=tf.Variable(tf.random_normal([1]),name=\"intercept\")\n",
    "print(\"x:\",x.shape,\"a:\",a.shape)\n",
    "#y=tf.matmul(tf.transpose(a),x)+b\n",
    "#y=tf.matmul(a,x)+b\n",
    "y=tf.matmul(x,a)\n",
    "\n",
    "init = tf.global_variables_initializer()\n",
    "loss = tf.reduce_sum(tf.square(y_-y))/batch_size\n",
    "train_step=tf.train.GradientDescentOptimizer(0.0001).minimize(loss)\n"
   ]
  },
  {
   "cell_type": "code",
   "execution_count": 63,
   "metadata": {},
   "outputs": [
    {
     "name": "stdout",
     "output_type": "stream",
     "text": [
      "903653\n",
      "[[ 0.]]\n"
     ]
    }
   ],
   "source": [
    "print(len(inputAns))\n",
    "print(inputAns[0:1])"
   ]
  },
  {
   "cell_type": "code",
   "execution_count": 64,
   "metadata": {},
   "outputs": [
    {
     "name": "stdout",
     "output_type": "stream",
     "text": [
      "初期状態\n",
      "\n",
      "Step: 20\n",
      "誤差5.15749\n",
      "\n",
      "Step: 40\n",
      "誤差8.73312\n",
      "\n",
      "Step: 60\n",
      "誤差6.16092\n",
      "\n",
      "Step: 80\n",
      "誤差6.15311\n",
      "\n",
      "Step: 100\n",
      "誤差9.5424\n",
      "\n",
      "Step: 120\n",
      "誤差10.4116\n",
      "\n",
      "Step: 140\n",
      "誤差7.59248\n",
      "\n",
      "Step: 160\n",
      "誤差6.47029\n",
      "\n",
      "Step: 180\n",
      "誤差7.41344\n",
      "\n",
      "Step: 200\n",
      "誤差7.22626\n"
     ]
    }
   ],
   "source": [
    "with tf.Session() as sess:\n",
    "    sess.run(init)\n",
    "    print('初期状態')\n",
    "    inpShape=inputData[0:batch_size]\n",
    "    ansShape=inputAns[0:batch_size]\n",
    "    #print('誤差' + str(sess.run(loss, feed_dict={x: inputData[0:batch_size], y_: inputAns[0:batch_size]})))\n",
    "    ##print('誤差' + str(sess.run(loss, feed_dict={x: inpShape, y_: ansShape})))\n",
    "    #print(\"weigths: %f, intercept: %f\" % (sess.run(a), sess.run(b) ))\n",
    "    #print(\"input:\",inputAns[batch_size*step+1:batch_size*step+1+batch_size])\n",
    "    ##print(\"weigths:\",sess.run(a),\"intercept:\",sess.run(b) )\n",
    "    \n",
    "    for step in range(200):\n",
    "        batchInputData= inputData[batch_size*step+1:batch_size*step+1+batch_size]\n",
    "        batchInputAns = inputAns[batch_size*step+1:batch_size*step+1+batch_size]\n",
    "        sess.run(train_step, feed_dict={x: batchInputData, y_: batchInputAns })\n",
    "        if (step+1) % 20 == 0:\n",
    "            print('\\nStep: %s' % (step+1))\n",
    "            print('誤差' + str(sess.run(loss, feed_dict={x: batchInputData, y_: batchInputAns })))\n",
    "            if debugFlg==True:\n",
    "                print(\"weights:\",sess.run(a), \" intercept: %f\" % ( sess.run(b)))\n",
    "            \n"
   ]
  },
  {
   "cell_type": "code",
   "execution_count": null,
   "metadata": {},
   "outputs": [],
   "source": []
  },
  {
   "cell_type": "code",
   "execution_count": null,
   "metadata": {},
   "outputs": [],
   "source": []
  }
 ],
 "metadata": {
  "kernelspec": {
   "display_name": "Python 3",
   "language": "python",
   "name": "python3"
  },
  "language_info": {
   "codemirror_mode": {
    "name": "ipython",
    "version": 2
   },
   "file_extension": ".py",
   "mimetype": "text/x-python",
   "name": "python",
   "nbconvert_exporter": "python",
   "pygments_lexer": "ipython2",
   "version": "2.7.5"
  }
 },
 "nbformat": 4,
 "nbformat_minor": 2
}
