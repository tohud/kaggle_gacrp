{
 "cells": [
  {
   "cell_type": "code",
   "execution_count": 1,
   "metadata": {},
   "outputs": [],
   "source": [
    "import csv\n",
    "import json\n",
    "import os\n",
    "\n",
    "GACRP_HOME=os.environ['GACRP_HOME']\n",
    "GACRP_DAT = GACRP_HOME+\"/dat\""
   ]
  },
  {
   "cell_type": "code",
   "execution_count": 2,
   "metadata": {},
   "outputs": [],
   "source": [
    "def csv2json(file_pref,index_pref):\n",
    "    index_name = index_pref+\"_index\"\n",
    "    type_name  = index_pref+\"_type\"\n",
    "\n",
    "    csv_file = open(GACRP_DAT+\"/\"+file_pref+\"_flat.csv\")\n",
    "    json_file = open(GACRP_DAT+\"/\"+file_pref+\".json\",'w')\n",
    "    blk_file = open(GACRP_DAT+\"/\"+file_pref+\"_blk.json\",'w')\n",
    "    fieldnames=(\"channelGrouping\",\"date\",\"fullVisitorId\",\"visitId\",\"visitNumber\",\"visitStartTime\",\"device_browser\",\"device_deviceCategory\",\"device_isMobile\",\"device_operatingSystem\",\"geoNetwork_city\",\"geoNetwork_continent\",\"geoNetwork_country\",\"geoNetwork_metro\",\"geoNetwork_networkDomain\",\"geoNetwork_region\",\"geoNetwork_subContinent\",\"totals_bounces\",\"totals_hits\",\"totals_newVisits\",\"totals_pageviews\",\"totals_sessionQualityDim\",\"totals_timeOnSite\",\"totals_totalTransactionRevenue\",\"totals_transactionRevenue\",\"totals_transactions\",\"trafficSource_adContent\",\"trafficSource_adwordsClickInfo.adNetworkType\",\"trafficSource_adwordsClickInfo.gclId\",\"trafficSource_adwordsClickInfo.isVideoAd\",\"trafficSource_adwordsClickInfo.page\",\"trafficSource_adwordsClickInfo.slot\",\"trafficSource_campaign\",\"trafficSource_campaignCode\",\"trafficSource_isTrueDirect\",\"trafficSource_keyword\",\"trafficSource_medium\",\"trafficSource_referralPath\",\"trafficSource_source\")\n",
    "\n",
    "    reader = csv.DictReader(csv_file,fieldnames)\n",
    "    i = 0\n",
    "    datas = []\n",
    "    json_file.write('{')\n",
    "    for row in reader:\n",
    "        i+=1\n",
    "        #1行目は項目名なので削る\n",
    "        if i==1:\n",
    "            continue\n",
    "        #途中経過の表示用\n",
    "        if i%100000 == 0:\n",
    "            print(\"read:\",i)\n",
    "        #json_file.write('{')\n",
    "        if row['totals_transactionRevenue']=='':\n",
    "            row['totals_transactionRevenue']=0\n",
    "        if row['totals_totalTransactionRevenue']=='':\n",
    "            row['totals_totalTransactionRevenue']=0\n",
    "        json.dump(row,json_file)\n",
    "        json_file.write(',\\n')\n",
    "        #json_file.write('},\\n')\n",
    "        \n",
    "        #elasticsearchへのbulkinsert用のjson-likeファイルを作る\n",
    "        blk_file.write('{\"index\":{\"_index\":\"'+index_name+'\",\"_type\":\"'+type_name+'\"}\\n')\n",
    "        json.dump(row,blk_file)\n",
    "        blk_file.write('\\n')\n",
    "                       \n",
    "    json_file.write('}')\n"
   ]
  },
  {
   "cell_type": "code",
   "execution_count": null,
   "metadata": {},
   "outputs": [],
   "source": []
  },
  {
   "cell_type": "code",
   "execution_count": 3,
   "metadata": {},
   "outputs": [],
   "source": [
    "def main():\n",
    "    csv2json(\"train_v2\",\"gacrp_v2\")\n",
    "    csv2json(\"test_v2\",\"gacrp_v2\")\n"
   ]
  },
  {
   "cell_type": "code",
   "execution_count": 4,
   "metadata": {},
   "outputs": [
    {
     "name": "stdout",
     "output_type": "stream",
     "text": [
      "read: 100000\n",
      "read: 200000\n",
      "read: 300000\n",
      "read: 400000\n",
      "read: 500000\n",
      "read: 600000\n",
      "read: 700000\n",
      "read: 800000\n",
      "read: 900000\n",
      "read: 1000000\n",
      "read: 1100000\n",
      "read: 1200000\n",
      "read: 1300000\n",
      "read: 1400000\n",
      "read: 1500000\n",
      "read: 1600000\n",
      "read: 1700000\n",
      "read: 100000\n",
      "read: 200000\n",
      "read: 300000\n",
      "read: 400000\n"
     ]
    }
   ],
   "source": [
    "if __name__ == '__main__':\n",
    "    main()"
   ]
  },
  {
   "cell_type": "code",
   "execution_count": null,
   "metadata": {},
   "outputs": [],
   "source": []
  }
 ],
 "metadata": {
  "kernelspec": {
   "display_name": "Python 3",
   "language": "python",
   "name": "python3"
  },
  "language_info": {
   "codemirror_mode": {
    "name": "ipython",
    "version": 3
   },
   "file_extension": ".py",
   "mimetype": "text/x-python",
   "name": "python",
   "nbconvert_exporter": "python",
   "pygments_lexer": "ipython3",
   "version": "3.7.0"
  }
 },
 "nbformat": 4,
 "nbformat_minor": 2
}
