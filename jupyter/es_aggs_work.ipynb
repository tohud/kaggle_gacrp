{
 "cells": [
  {
   "cell_type": "code",
   "execution_count": 97,
   "metadata": {},
   "outputs": [],
   "source": [
    "#前処理後のindex作るための処理\n",
    "import os\n",
    "import elasticsearch as es\n",
    "import math\n",
    "import numpy as np\n",
    "from itertools import chain\n",
    "\n",
    "ES_HOST = \"localhost\"\n",
    "escon = es.Elasticsearch(ES_HOST, port=9200)\n",
    "GACRP_HOME=os.environ['GACRP_HOME']"
   ]
  },
  {
   "cell_type": "code",
   "execution_count": null,
   "metadata": {},
   "outputs": [],
   "source": []
  },
  {
   "cell_type": "code",
   "execution_count": 98,
   "metadata": {},
   "outputs": [
    {
     "name": "stdout",
     "output_type": "stream",
     "text": [
      "10000\n"
     ]
    }
   ],
   "source": [
    "# 元データ取得\n",
    "body = {\n",
    "    \"size\":10000,\n",
    "    \"_source\":[\"channelGrouping\",\"visitNumber\",\"isMobile\",\"country\",\"hits\",\"bounces\",\"newVisits\",\"source\",\"medium\",\"isTrueDirect\",\"transactionRevenue\"],\n",
    "    \"query\": {\n",
    "      \"match_all\": {}\n",
    "    }\n",
    "  }\n",
    "  \n",
    "res=escon.search(index='gacrp_index',body=body)\n",
    "data=[]\n",
    "ans = []\n",
    "\n",
    "print(len(res[\"hits\"][\"hits\"]))"
   ]
  },
  {
   "cell_type": "code",
   "execution_count": 99,
   "metadata": {},
   "outputs": [],
   "source": [
    "for i in range(len(res[\"hits\"][\"hits\"])):\n",
    "    row=res[\"hits\"][\"hits\"][i][\"_source\"]\n",
    "    rec=[]\n",
    "\n",
    "    if row['channelGrouping']=='Display':\n",
    "        col_channelGrouping=1\n",
    "    elif row['channelGrouping']=='Social':\n",
    "        col_channelGrouping=2\n",
    "    else:\n",
    "        col_channelGrouping=0\n",
    "    oneHot_col_channelGrouping=np.eye(2+1)[col_channelGrouping]\n",
    "        \n",
    "    col_visitNumber=min(int(row['visitNumber']),5)/5.0 \n",
    "\n",
    "    if row['isMobile']==\"TRUE\":\n",
    "        col_isMobile=1\n",
    "    else:\n",
    "        col_isMobile=0\n",
    "\n",
    "    if row['country']==\"United States\":\n",
    "        col_country =1\n",
    "    elif row['country']==\"Canada\":\n",
    "        col_country =2\n",
    "    elif row['country']==\"Japan\":\n",
    "        col_country=3\n",
    "    else:\n",
    "        col_country=0\n",
    "    oneHot_col_country=np.eye(3+1)[col_country]\n",
    "    \n",
    "    col_hits=math.log10(int(row['hits'])*1.0)\n",
    "    \n",
    "    if row['bounces']==\"1\":\n",
    "        col_bounces=1\n",
    "    else:\n",
    "        col_bounces=0\n",
    "\n",
    "    if row['newVisits']== \"1\":\n",
    "        col_newVisits=1\n",
    "    else:\n",
    "        col_newVisits=0\n",
    "    \n",
    "    if row['source']==\"mail.googleplex.com\" or row['source']==\"dfa\":\n",
    "        col_source =1\n",
    "    elif row['source']==\"(direct)\":\n",
    "        col_source=2\n",
    "    else:\n",
    "        col_source=0\n",
    "    oneHot_col_source=np.eye(2+1)[col_source]\n",
    "        \n",
    "    if row['medium']==\"cpm\":\n",
    "        col_medium=1\n",
    "    else:\n",
    "        col_medium=0\n",
    "    oneHot_col_medium=np.eye(1+1)[col_medium]\n",
    "    \n",
    "    if row['isTrueDirect']==\"1\":\n",
    "        col_isTrueDirect=1\n",
    "    else:\n",
    "        col_isTrueDirect=0\n",
    "    \n",
    "    revenue = math.log(int(row['transactionRevenue'])+1)\n",
    "    \n",
    "    l=[oneHot_col_channelGrouping,[col_visitNumber],[col_isMobile],oneHot_col_country,[col_hits],[col_bounces],[col_newVisits],oneHot_col_source,oneHot_col_medium,[col_isTrueDirect]]\n",
    "    data.append(list(chain.from_iterable(l)))\n",
    "    ans.append(revenue) "
   ]
  },
  {
   "cell_type": "code",
   "execution_count": 100,
   "metadata": {},
   "outputs": [
    {
     "name": "stdout",
     "output_type": "stream",
     "text": [
      "10000\n",
      "10000\n"
     ]
    }
   ],
   "source": [
    "print(len(data))\n",
    "print(len(ans))"
   ]
  },
  {
   "cell_type": "code",
   "execution_count": null,
   "metadata": {},
   "outputs": [],
   "source": []
  }
 ],
 "metadata": {
  "kernelspec": {
   "display_name": "Python 3",
   "language": "python",
   "name": "python3"
  },
  "language_info": {
   "codemirror_mode": {
    "name": "ipython",
    "version": 2
   },
   "file_extension": ".py",
   "mimetype": "text/x-python",
   "name": "python",
   "nbconvert_exporter": "python",
   "pygments_lexer": "ipython2",
   "version": "2.7.5"
  }
 },
 "nbformat": 4,
 "nbformat_minor": 2
}
