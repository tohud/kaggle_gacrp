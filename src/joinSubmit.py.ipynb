{
 "cells": [
  {
   "cell_type": "code",
   "execution_count": 105,
   "metadata": {},
   "outputs": [],
   "source": [
    "#!/usr/bin/python3.6\n",
    "import csv\n",
    "import os\n",
    "from decimal import Decimal, ROUND_HALF_UP, ROUND_HALF_EVEN\n",
    "GACRP_HOME=os.environ['GACRP_HOME']\n",
    "samplelist_file = open(GACRP_HOME+\"/sample_submission_v2.csv\")\n",
    "submit_file = open(GACRP_HOME+\"/submit.dat\")\n",
    "id_file = open(GACRP_HOME+\"/id.dat\")\n",
    "\n",
    "smpl = csv.reader(samplelist_file,delimiter=\",\",doublequote=True)\n",
    "sbmt = csv.reader(submit_file,delimiter=\",\",doublequote=True)\n",
    "idf = csv.reader(id_file,delimiter=\",\",doublequote=True)\n",
    "\n",
    "i=0\n",
    "smpl_dat = []\n",
    "for row in smpl:\n",
    "\ti=i+1\n",
    "\tsmpl_dat.append(row)\n",
    "\n",
    "sbmt_dat = []\n",
    "for row in sbmt:\n",
    "\ti=i+1\n",
    "\tsbmt_dat.append(row)\n",
    "\n",
    "id_dat = []\n",
    "for row in idf:\n",
    "\ti=i+1\n",
    "\tid_dat.append(row)\n"
   ]
  },
  {
   "cell_type": "code",
   "execution_count": 106,
   "metadata": {},
   "outputs": [
    {
     "name": "stdout",
     "output_type": "stream",
     "text": [
      "['0000018966949534117', '-1.769676990807056427e-02']\n"
     ]
    }
   ],
   "source": [
    "sbmt_list=[]\n",
    "for i in range(len(sbmt_dat)):\n",
    "    sbmt_list.append([id_dat[i][0],sbmt_dat[i][0]])\n",
    "\n",
    "print(sbmt_list[0])"
   ]
  },
  {
   "cell_type": "code",
   "execution_count": 107,
   "metadata": {},
   "outputs": [
    {
     "name": "stdout",
     "output_type": "stream",
     "text": [
      "-1.769676990807056427e-02\n",
      "-0.01769676990807056427\n",
      "0000018966949534117 0000018966949534117\n"
     ]
    }
   ],
   "source": [
    "j=0\n",
    "print(sbmt_list[0][1])\n",
    "\n",
    "print(Decimal(sbmt_list[0][1]) )\n",
    "\n",
    "final_list=[]\n",
    "print(smpl_dat[0][0],sbmt_list[0][0])\n",
    "for i in range(len(smpl_dat)):\n",
    "    if smpl_dat[i][0]==sbmt_list[j][0]:\n",
    "        #final_list.append(str(smpl_dat[i])+\",\"+str(Decimal(sbmt_list[j][1][0],'0.01').quantize.Decimal('0.1')) ) \n",
    "        final_list.append(str(smpl_dat[i][0])+\",\"+str( Decimal((sbmt_list[j][1]) ) ) )\n",
    "        j+=1\n",
    "    else:\n",
    "        final_list.append(str(smpl_dat[i][0])+\",\"+str(0.0) )"
   ]
  },
  {
   "cell_type": "code",
   "execution_count": 108,
   "metadata": {},
   "outputs": [
    {
     "name": "stdout",
     "output_type": "stream",
     "text": [
      "00001995526696366,0.04951145127415657043\n"
     ]
    }
   ],
   "source": [
    "final_file = open(GACRP_HOME+\"/\"+\"final.dat\",'w')\n",
    "print(final_list[6])"
   ]
  },
  {
   "cell_type": "code",
   "execution_count": 109,
   "metadata": {},
   "outputs": [],
   "source": [
    "forwrite=[]\n",
    "for i in range(len(smpl_dat)):\n",
    "    forwrite.append(str(final_list[i]+'\\n'))"
   ]
  },
  {
   "cell_type": "code",
   "execution_count": 110,
   "metadata": {},
   "outputs": [
    {
     "name": "stdout",
     "output_type": "stream",
     "text": [
      "0000018966949534117,-0.01769676990807056427\n",
      "\n"
     ]
    }
   ],
   "source": [
    "print(forwrite[0])\n",
    "for i in range(len(smpl_dat)):\n",
    "    final_file.write(forwrite[i])"
   ]
  },
  {
   "cell_type": "code",
   "execution_count": null,
   "metadata": {},
   "outputs": [],
   "source": []
  }
 ],
 "metadata": {
  "kernelspec": {
   "display_name": "Python 3",
   "language": "python",
   "name": "python3"
  },
  "language_info": {
   "codemirror_mode": {
    "name": "ipython",
    "version": 3
   },
   "file_extension": ".py",
   "mimetype": "text/x-python",
   "name": "python",
   "nbconvert_exporter": "python",
   "pygments_lexer": "ipython3",
   "version": "3.6.6"
  }
 },
 "nbformat": 4,
 "nbformat_minor": 2
}
